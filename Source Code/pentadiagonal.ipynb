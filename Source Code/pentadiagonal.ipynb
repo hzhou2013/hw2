{
 "metadata": {
  "name": "",
  "signature": "sha256:07241e5332b94a4ccfd82b93af86001a70c6ced9bc86ff4e0e7f43b140d3dec0"
 },
 "nbformat": 3,
 "nbformat_minor": 0,
 "worksheets": [
  {
   "cells": [
    {
     "cell_type": "code",
     "collapsed": false,
     "input": [
      "import numpy as np\n",
      "\n",
      "import scipy.sparse as sparse\n",
      "\n",
      "import scipy.stats as stats\n",
      "\n",
      "import matplotlib.pyplot as plt\n",
      "\n",
      "from mpl_toolkits.mplot3d import Axes3D\n",
      "\n",
      "S_0 = 100.0\n",
      "K = 90.0\n",
      "r = 0.0025\n",
      "q = 0.0125\n",
      "T = 1.0\n",
      "sigma = 0.5\n",
      "S_min = 0.0\n",
      "S_max = 250.0\n",
      "N = 1000\n",
      "M = 250\n",
      "\n",
      "dS = (S_max - S_min) / N\n",
      "dtau = T / M\n",
      "\n",
      "def S(j):\n",
      "\treturn S_min + j * dS\n",
      "def tau(k):\n",
      "\treturn k * dtau\n",
      "\n",
      "def alpha(j, k):\n",
      "\treturn sigma * sigma * S(j) * S(j) * dtau / (24 * dS * dS)\n",
      "\n",
      "def beta(j, k):\n",
      "\treturn (r - q) * S(j) * dtau / (12 * dS)\n",
      "\n",
      "def a(j, k):\n",
      "\treturn -alpha(j, k) + beta(j, k)\n",
      "\n",
      "def b(j, k):\n",
      "\treturn 16 * alpha(j, k) - 8 * beta(j, k)\n",
      "\n",
      "def c(j, k):\n",
      "\treturn 1 - r * dtau - 30 * alpha(j, k)\n",
      "\n",
      "def d(j, k):\n",
      "\treturn 16 * alpha(j, k) + 8 * beta(j, k)\n",
      "\n",
      "def e(j, k):\n",
      "\treturn -alpha(j, k) - beta(j, k)\n",
      "\n",
      "def aa(j, k):\n",
      "\treturn -a(j, k)\n",
      "\n",
      "def bb(j, k):\n",
      "\treturn -b(j, k)\n",
      "\n",
      "def cc(j, k):\n",
      "\treturn 2 - c(j, k)\n",
      "\n",
      "def dd(j, k):\n",
      "\treturn -d(j, k)\n",
      "\n",
      "def ee(j, k):\n",
      "\treturn -e(j, k)\n",
      "\n",
      "def A_EXP(k):\n",
      "\tA = map(lambda j: a(j, k) , range(4,N-1)) \n",
      "\tB = map(lambda j: b(j, k) , range(3,N-1)) \n",
      "\tC = map(lambda j: c(j, k) , range(2,N-1))\n",
      "\tD = map(lambda j: d(j, k) , range(2,N-2))\n",
      "\tE = map(lambda j: e(j, k) , range(2,N-3))\n",
      "\tdata = [A, B, C, D, E]\n",
      "\n",
      "\t# third order Neumann boundary conditions\n",
      "\tf1 = np.array([-2.84210526315790, 1.68421052631579, 0.157894736842105])\n",
      "\tf2 = np.array([-2.05263157894737, 1.10526315789474, -0.0526315789473684])\n",
      "\tf3 = np.array([-16.0, 30.0, -16.0, 1.0])\n",
      "\n",
      "\tC[0] = C[0] - f1[0] * a(2, k) - f2[0] * b(2, k)\n",
      "\tD[0] = D[0] - f1[1] * a(2, k) - f2[1] * b(2, k)\n",
      "\tE[0] = E[0] - f1[2] * a(2, k) - f2[2] * b(2, k)\n",
      "\n",
      "\tB[0] = B[0] - f3[0] * a(3, k)\n",
      "\tC[1] = C[1] - f3[1] * a(3, k)\n",
      "\tD[1] = D[1] - f3[2] * a(3, k)\n",
      "\tE[1] = E[1] - f3[3] * a(3, k)\n",
      "\n",
      "\tC[-1] = C[-1] - f1[0] * e(N-2, k) - f2[0] * d(N-2, k)\n",
      "\tB[-1] = B[-1] - f1[1] * e(N-2, k) - f2[1] * d(N-2, k)\n",
      "\tA[-1] = A[-1] - f1[2] * e(N-2, k) - f2[2] * d(N-2, k)\n",
      "\n",
      "\tD[-1] = D[-1] - f3[0] * e(N-3, k)\n",
      "\tC[-2] = C[-2] - f3[1] * e(N-3, k)\n",
      "\tB[-2] = B[-2] - f3[2] * e(N-3, k)\n",
      "\tA[-2] = A[-2] - f3[3] * e(N-3, k)\n",
      "\n",
      "\toffsets = np.array([-2, -1, 0, 1, 2])\n",
      "\treturn sparse.diags(data, offsets)\n",
      "\n",
      "def A_IMP(k):\n",
      "\tA = map(lambda j: aa(j, k) , range(4,N-1)) \n",
      "\tB = map(lambda j: bb(j, k) , range(3,N-1)) \n",
      "\tC = map(lambda j: cc(j, k) , range(2,N-1))\n",
      "\tD = map(lambda j: dd(j, k) , range(2,N-2))\n",
      "\tE = map(lambda j: ee(j, k) , range(2,N-3))\n",
      "\tdata = [A, B, C, D, E]\n",
      "\n",
      "\t# third order Neumann boundary conditions\n",
      "\tf1 = np.array([-2.84210526315790, 1.68421052631579, 0.157894736842105])\n",
      "\tf2 = np.array([-2.05263157894737, 1.10526315789474, -0.0526315789473684])\n",
      "\tf3 = np.array([-16.0, 30.0, -16.0, 1.0])\n",
      "\n",
      "\tC[0] = C[0] - f1[0] * aa(2, k) - f2[0] * bb(2, k)\n",
      "\tD[0] = D[0] - f1[1] * aa(2, k) - f2[1] * bb(2, k)\n",
      "\tE[0] = E[0] - f1[2] * aa(2, k) - f2[2] * bb(2, k)\n",
      "\n",
      "\tB[0] = B[0] - f3[0] * aa(3, k)\n",
      "\tC[1] = C[1] - f3[1] * aa(3, k)\n",
      "\tD[1] = D[1] - f3[2] * aa(3, k)\n",
      "\tE[1] = E[1] - f3[3] * aa(3, k)\n",
      "\n",
      "\tC[-1] = C[-1] - f1[0] * ee(N-2, k) - f2[0] * dd(N-2, k)\n",
      "\tB[-1] = B[-1] - f1[1] * ee(N-2, k) - f2[1] * dd(N-2, k)\n",
      "\tA[-1] = A[-1] - f1[2] * ee(N-2, k) - f2[2] * dd(N-2, k)\n",
      "\n",
      "\tD[-1] = D[-1] - f3[0] * ee(N-3, k)\n",
      "\tC[-2] = C[-2] - f3[1] * ee(N-3, k)\n",
      "\tB[-2] = B[-2] - f3[2] * ee(N-3, k)\n",
      "\tA[-2] = A[-2] - f3[3] * ee(N-3, k)\n",
      "\n",
      "\toffsets = np.array([-2, -1, 0, 1, 2])\n",
      "\treturn sparse.diags(data, offsets)\n",
      "\n",
      "def BS_PUT(j, k):\n",
      "\tif (j == 0): return 0\n",
      "\tF = S(j) * np.exp((r - q) * tau(k))\n",
      "\td1 = (np.log(F / K) + 0.5 * sigma * sigma * tau(k)) / (sigma * np.sqrt(tau(k)))\n",
      "\td2 = d1 - sigma * np.sqrt(tau(k))\n",
      "\treturn np.exp(-r * tau(k)) * (K * stats.norm.cdf(-d2) - F * stats.norm.cdf(-d1))\n",
      "\n",
      "V_mat = np.matrix(map(lambda j: max(K - S(j), 0), range(2,N-1))).H\n",
      "V = list([np.hstack([np.array(V_mat).squeeze()])])\n",
      "for k in range(1, M+1):\n",
      "\tRHS = A_EXP(k)+ sparse.eye(N-3, format='dia')\n",
      "\tLHS = A_IMP(k+1) + sparse.eye(N-3, format='dia')\n",
      "\tRHS_PROD = RHS * V_mat\n",
      "\tV_mat = sparse.linalg.spsolve(LHS, RHS_PROD)\n",
      "\tV_arr = np.array(V_mat).squeeze()\n",
      "\tV.append(np.hstack([V_arr]))\n",
      "\n",
      "V_vec = V[M]\n",
      "BS_vec = np.array(map(lambda j: BS_PUT(j, M), range(2,N-1)))\n",
      "S_vec = np.array(map(lambda j: S(j), range(2,N-1)))\n",
      "Tau_vec = np.array(map(lambda k: tau(k), range(0,M+1)))\n",
      "DIFF_vec = BS_vec - V_vec"
     ],
     "language": "python",
     "metadata": {},
     "outputs": [],
     "prompt_number": 1
    },
    {
     "cell_type": "code",
     "collapsed": false,
     "input": [
      "print \"The numerical price of the put option with S_0 = {} is {}\".format(S_0, V_vec[np.where(S_vec == S_0)].item())\n",
      "print \"The theoretical price of the put option with S_0 = {} is {}\".format(S_0, BS_vec[np.where(S_vec == S_0)].item())"
     ],
     "language": "python",
     "metadata": {},
     "outputs": [
      {
       "output_type": "stream",
       "stream": "stdout",
       "text": [
        "The numerical price of the put option with S_0 = 100.0 is 14.4476783134\n",
        "The theoretical price of the put option with S_0 = 100.0 is 14.4483039797\n"
       ]
      }
     ],
     "prompt_number": 2
    },
    {
     "cell_type": "code",
     "collapsed": false,
     "input": [
      "fig, ax = plt.subplots()\n",
      "plt.title('Solution from Solver with Pentadiagonal Stiffness Matrix')\n",
      "ax.set_xlabel('S_0')\n",
      "ax.set_ylabel('Numerical Solution')\n",
      "plt.plot(S_vec, V_vec)"
     ],
     "language": "python",
     "metadata": {},
     "outputs": [
      {
       "metadata": {},
       "output_type": "pyout",
       "prompt_number": 3,
       "text": [
        "[<matplotlib.lines.Line2D at 0x10778b190>]"
       ]
      }
     ],
     "prompt_number": 3
    },
    {
     "cell_type": "code",
     "collapsed": false,
     "input": [
      "fig, ax = plt.subplots()\n",
      "plt.title('Accuracy of Solver with Pentadiagonal Stiffness Matrix')\n",
      "ax.set_xlabel('S_0')\n",
      "ax.set_ylabel('Theoretical Price Minus Numerical Solution')\n",
      "plt.plot(S_vec, DIFF_vec)"
     ],
     "language": "python",
     "metadata": {},
     "outputs": [
      {
       "metadata": {},
       "output_type": "pyout",
       "prompt_number": 4,
       "text": [
        "[<matplotlib.lines.Line2D at 0x107810750>]"
       ]
      }
     ],
     "prompt_number": 4
    },
    {
     "cell_type": "code",
     "collapsed": false,
     "input": [
      "fig, ax = plt.subplots()\n",
      "plt.title('Solution from Solver with Pentadiagonal Stiffness Matrix')\n",
      "ax = plt.axes(projection='3d')\n",
      "X, Y = np.meshgrid(S_vec, Tau_vec)\n",
      "Z = np.array(V)\n",
      "ax.plot_surface(X, Y, Z)\n",
      "ax.set_xlabel('S_0')\n",
      "ax.set_ylabel('Tau')\n",
      "ax.set_zlabel('Numerical Solution')"
     ],
     "language": "python",
     "metadata": {},
     "outputs": [
      {
       "metadata": {},
       "output_type": "pyout",
       "prompt_number": 5,
       "text": [
        "<matplotlib.text.Text at 0x10790b250>"
       ]
      }
     ],
     "prompt_number": 5
    }
   ],
   "metadata": {}
  }
 ]
}