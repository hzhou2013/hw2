{
 "metadata": {
  "name": "",
  "signature": "sha256:61809a72237604b6725ceaaad223d11fb8c75d12e5f69213c2c34b53fac504c0"
 },
 "nbformat": 3,
 "nbformat_minor": 0,
 "worksheets": [
  {
   "cells": [
    {
     "cell_type": "code",
     "collapsed": false,
     "input": [
      "import numpy as np\n",
      "\n",
      "import scipy.sparse as sparse\n",
      "\n",
      "import scipy.stats as stats\n",
      "\n",
      "import matplotlib.pyplot as plt\n",
      "\n",
      "from mpl_toolkits.mplot3d import Axes3D\n",
      "\n",
      "S_0 = 100.0\n",
      "K = 90.0\n",
      "r = 0.0025\n",
      "q = 0.0125\n",
      "T = 1.0\n",
      "sigma = 0.5\n",
      "S_min = 0.0\n",
      "S_max = 250.0\n",
      "N = 1000\n",
      "M = 250\n",
      "\n",
      "dS = (S_max - S_min) / N\n",
      "dtau = T / M\n",
      "\n",
      "def S(j):\n",
      "\treturn S_min + j * dS\n",
      "def tau(k):\n",
      "\treturn k * dtau\n",
      "\n",
      "def alpha(j, k):\n",
      "\treturn sigma * sigma * S(j) * S(j) * dtau / (2 * dS * dS)\n",
      "\n",
      "def beta(j, k):\n",
      "\treturn (r - q) * S(j) * dtau / (2 * dS)\n",
      "\n",
      "def l(j, k):\n",
      "\treturn alpha(j, k) - beta(j, k)\n",
      "\n",
      "def d(j, k):\n",
      "\treturn 1 - r * dtau - 2 * alpha(j, k)\n",
      "\n",
      "def u(j, k):\n",
      "\treturn alpha(j, k) + beta(j, k)\n",
      "\n",
      "def ll(j, k):\n",
      "\treturn -l(j, k)\n",
      "\n",
      "def dd(j, k):\n",
      "\treturn 2 - d(j, k)\n",
      "\n",
      "def uu(j, k):\n",
      "\treturn -u(j, k)\n",
      "\n",
      "def A_EXP(k):\n",
      "\tD = map(lambda j: d(j, k) , range(1,N)) \n",
      "\tL = map(lambda j: l(j, k) , range(2,N)) \n",
      "\tU = map(lambda j: u(j, k) , range(1,N-1))\n",
      "\tD[0] = D[0] + 2 * l(1, k)\n",
      "\tU[0] = U[0] - l(1, k)\n",
      "\tD[N-2] = D[N-2] + 2 * u(N-1, k) \n",
      "\tL[N-3] = L[N-3] - u(N-1, k)\n",
      "\tdata = [D, L, U]\n",
      "\toffsets = np.array([0,-1,1])\n",
      "\treturn sparse.diags(data, offsets)\n",
      "\n",
      "def A_IMP(k):\n",
      "\tD = map(lambda j: dd(j, k) , range(1,N)) \n",
      "\tL = map(lambda j: ll(j, k) , range(2,N)) \n",
      "\tU = map(lambda j: uu(j, k) , range(1,N-1))\n",
      "\tD[0] = D[0] + 2 * ll(1, k)\n",
      "\tU[0] = U[0] - ll(1, k)\n",
      "\tD[N-2] = D[N-2] + 2 * uu(N-1, k) \n",
      "\tL[N-3] = L[N-3] - uu(N-1, k)\n",
      "\tdata = [D, L, U]\n",
      "\toffsets = np.array([0,-1,1])\n",
      "\treturn sparse.diags(data, offsets)\n",
      "\n",
      "def BS_PUT(j, k):\n",
      "\tif (j == 0): return 0\n",
      "\tF = S(j) * np.exp((r - q) * tau(k))\n",
      "\td1 = (np.log(F / K) + 0.5 * sigma * sigma * tau(k)) / (sigma * np.sqrt(tau(k)))\n",
      "\td2 = d1 - sigma * np.sqrt(tau(k))\n",
      "\treturn np.exp(-r * tau(k)) * (K * stats.norm.cdf(-d2) - F * stats.norm.cdf(-d1))\n",
      "\n",
      "V_mat = np.matrix(map(lambda j: max(K - S(j), 0), range(1,N))).H\n",
      "V = list([np.hstack([np.array(V_mat).squeeze()])])\n",
      "for k in range(1, M+1):\n",
      "\tRHS = A_EXP(k)+ sparse.eye(N-1, format='dia')\n",
      "\tLHS = A_IMP(k+1) + sparse.eye(N-1, format='dia')\n",
      "\tV_mat = sparse.linalg.spsolve(LHS, RHS * V_mat)\n",
      "\tV_arr = np.array(V_mat).squeeze()\n",
      "\tV.append(np.hstack([V_arr]))\n",
      "\n",
      "V_vec = V[M]\n",
      "BS_vec = np.array(map(lambda j: BS_PUT(j, M), range(1,N)))\n",
      "S_vec = np.array(map(lambda j: S(j), range(1,N)))\n",
      "Tau_vec = np.array(map(lambda k: tau(k), range(0,M+1)))\n",
      "DIFF_vec = BS_vec - V_vec"
     ],
     "language": "python",
     "metadata": {},
     "outputs": [],
     "prompt_number": 5
    },
    {
     "cell_type": "code",
     "collapsed": false,
     "input": [
      "print \"The numerical price of the put option with S_0 = {} is {}\".format(S_0, V_vec[np.where(S_vec == S_0)].item())\n",
      "print \"The theoretical price of the put option with S_0 = {} is {}\".format(S_0, BS_vec[np.where(S_vec == S_0)].item())"
     ],
     "language": "python",
     "metadata": {},
     "outputs": [
      {
       "output_type": "stream",
       "stream": "stdout",
       "text": [
        "The numerical price of the put option with S_0 = 101.0 is 14.125572439\n",
        "The theoretical price of the put option with S_0 = 101.0 is 14.1262450369\n"
       ]
      }
     ],
     "prompt_number": 6
    },
    {
     "cell_type": "code",
     "collapsed": false,
     "input": [
      "fig, ax = plt.subplots()\n",
      "plt.title('Solution from Solver with Tridiagonal Stiffness Matrix')\n",
      "ax.set_xlabel('S_0')\n",
      "ax.set_ylabel('Numerical Solution')\n",
      "plt.plot(S_vec, V_vec)"
     ],
     "language": "python",
     "metadata": {},
     "outputs": [
      {
       "metadata": {},
       "output_type": "pyout",
       "prompt_number": 7,
       "text": [
        "[<matplotlib.lines.Line2D at 0x107621710>]"
       ]
      }
     ],
     "prompt_number": 7
    },
    {
     "cell_type": "code",
     "collapsed": false,
     "input": [
      "fig, ax = plt.subplots()\n",
      "plt.title('Accuracy of Solver with Tridiagonal Stiffness Matrix')\n",
      "ax.set_xlabel('S_0')\n",
      "ax.set_ylabel('Theoretical Price Minus Numerical Solution')\n",
      "plt.plot(S_vec, DIFF_vec)"
     ],
     "language": "python",
     "metadata": {},
     "outputs": [
      {
       "metadata": {},
       "output_type": "pyout",
       "prompt_number": 8,
       "text": [
        "[<matplotlib.lines.Line2D at 0x1076b8d90>]"
       ]
      }
     ],
     "prompt_number": 8
    },
    {
     "cell_type": "code",
     "collapsed": false,
     "input": [
      "fig, ax = plt.subplots()\n",
      "plt.title('Solution from Solver with Tridiagonal Stiffness Matrix')\n",
      "ax = plt.axes(projection='3d')\n",
      "X, Y = np.meshgrid(S_vec, Tau_vec)\n",
      "Z = np.array(V)\n",
      "ax.plot_surface(X, Y, Z)\n",
      "ax.set_xlabel('S_0')\n",
      "ax.set_ylabel('Tau')\n",
      "ax.set_zlabel('Numerical Solution')"
     ],
     "language": "python",
     "metadata": {},
     "outputs": [
      {
       "metadata": {},
       "output_type": "pyout",
       "prompt_number": 9,
       "text": [
        "<matplotlib.text.Text at 0x1077d8350>"
       ]
      }
     ],
     "prompt_number": 9
    }
   ],
   "metadata": {}
  }
 ]
}